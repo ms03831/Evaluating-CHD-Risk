{
 "cells": [
  {
   "cell_type": "code",
   "execution_count": 2,
   "metadata": {},
   "outputs": [],
   "source": [
    "import pandas as pd\n",
    "from sklearn.model_selection import train_test_split\n",
    "from helperFunctions import *\n",
    "import numpy as np \n",
    "\n",
    "\n",
    "class Model:\n",
    "    def __init__(self):\n",
    "        self.model = None\n",
    "        self.target = None\n",
    "        self.features = None\n",
    "        self.data = None\n",
    "        self.testX = None\n",
    "        self.testY = None\n",
    "        self.trainX = None\n",
    "        self.trainY = None\n",
    "        \n",
    "    def _readDataset(self, filename):\n",
    "        self.data = pd.read_csv(filename)\n",
    "\n",
    "    def _dropNulls(self):\n",
    "        self.data.drop([\"education\"], axis = 1, inplace = True) #dropping this improved accuracy\n",
    "        self.data.dropna(inplace = True)\n",
    "    \n",
    "    def _saveProcessedData(self):\n",
    "        self.features = self.data.drop(\"TenYearCHD\", axis = 1)\n",
    "        self.target = self.data.TenYearCHD\n",
    "        self.data.to_csv(\"../data/processedData.csv\")\n",
    "    \n",
    "    def _trainTestSplit(self):\n",
    "        self.trainX, self.testX, self.trainY, self.testY = train_test_split(self.features, self.target, test_size=0.2)\n",
    "    \n",
    "    def preProcessing(self, filename):\n",
    "        self._readDataset(filename)\n",
    "        self._dropNulls()\n",
    "        self.data.reset_index(drop = True)\n",
    "        self._saveProcessedData()\n",
    "        self._trainTestSplit()\n",
    "        #display(self.data.corr())"
   ]
  },
  {
   "cell_type": "code",
   "execution_count": 3,
   "metadata": {},
   "outputs": [
    {
     "name": "stdout",
     "output_type": "stream",
     "text": [
      "\n"
     ]
    }
   ],
   "source": [
    "model = Model()\n",
    "model.preProcessing(\"../data/framingham.csv\")\n",
    "model.data.TenYearCHD.hist()\n",
    "print()"
   ]
  },
  {
   "cell_type": "code",
   "execution_count": 4,
   "metadata": {},
   "outputs": [
    {
     "data": {
      "text/plain": [
       "array([<matplotlib.axes._subplots.AxesSubplot object at 0x1a1719e5f8>,\n",
       "       <matplotlib.axes._subplots.AxesSubplot object at 0x1a172130b8>],\n",
       "      dtype=object)"
      ]
     },
     "execution_count": 4,
     "metadata": {},
     "output_type": "execute_result"
    },
    {
     "data": {
      "image/png": "[encoded data removed]",
      "text/plain": [
       "<Figure size 432x288 with 2 Axes>"
      ]
     },
     "metadata": {
      "needs_background": "light"
     },
     "output_type": "display_data"
    }
   ],
   "source": [
    "model.data.hist(\"age\", \"TenYearCHD\")"
   ]
  },
  {
   "cell_type": "code",
   "execution_count": 5,
   "metadata": {},
   "outputs": [
    {
     "data": {
      "text/plain": [
       "array([<matplotlib.axes._subplots.AxesSubplot object at 0x1a172eeac8>,\n",
       "       <matplotlib.axes._subplots.AxesSubplot object at 0x1a1730e9b0>],\n",
       "      dtype=object)"
      ]
     },
     "execution_count": 5,
     "metadata": {},
     "output_type": "execute_result"
    },
    {
     "data": {
      "image/png": "[encoded data removed]",
      "text/plain": [
       "<Figure size 432x288 with 2 Axes>"
      ]
     },
     "metadata": {
      "needs_background": "light"
     },
     "output_type": "display_data"
    }
   ],
   "source": [
    "model.data.hist(\"male\", \"TenYearCHD\")"
   ]
  },
  {
   "cell_type": "code",
   "execution_count": 6,
   "metadata": {},
   "outputs": [
    {
     "data": {
      "text/plain": [
       "array([[<matplotlib.axes._subplots.AxesSubplot object at 0x1a1719e668>]],\n",
       "      dtype=object)"
      ]
     },
     "execution_count": 6,
     "metadata": {},
     "output_type": "execute_result"
    },
    {
     "data": {
      "image/png": "[encoded data removed]",
      "text/plain": [
       "<Figure size 432x288 with 1 Axes>"
      ]
     },
     "metadata": {
      "needs_background": "light"
     },
     "output_type": "display_data"
    }
   ],
   "source": [
    "model.data.hist(\"male\")"
   ]
  },
  {
   "cell_type": "code",
   "execution_count": 7,
   "metadata": {},
   "outputs": [
    {
     "data": {
      "text/html": [
       "<div>\n",
       "<style scoped>\n",
       "    .dataframe tbody tr th:only-of-type {\n",
       "        vertical-align: middle;\n",
       "    }\n",
       "\n",
       "    .dataframe tbody tr th {\n",
       "        vertical-align: top;\n",
       "    }\n",
       "\n",
       "    .dataframe thead th {\n",
       "        text-align: right;\n",
       "    }\n",
       "</style>\n",
       "<table border=\"1\" class=\"dataframe\">\n",
       "  <thead>\n",
       "    <tr style=\"text-align: right;\">\n",
       "      <th></th>\n",
       "      <th>male</th>\n",
       "      <th>age</th>\n",
       "      <th>currentSmoker</th>\n",
       "      <th>cigsPerDay</th>\n",
       "      <th>BPMeds</th>\n",
       "      <th>prevalentStroke</th>\n",
       "      <th>prevalentHyp</th>\n",
       "      <th>diabetes</th>\n",
       "      <th>totChol</th>\n",
       "      <th>sysBP</th>\n",
       "      <th>diaBP</th>\n",
       "      <th>BMI</th>\n",
       "      <th>heartRate</th>\n",
       "      <th>glucose</th>\n",
       "      <th>TenYearCHD</th>\n",
       "    </tr>\n",
       "  </thead>\n",
       "  <tbody>\n",
       "    <tr>\n",
       "      <th>male</th>\n",
       "      <td>1.000000</td>\n",
       "      <td>-0.025380</td>\n",
       "      <td>0.203861</td>\n",
       "      <td>0.289066</td>\n",
       "      <td>-0.052359</td>\n",
       "      <td>-0.002509</td>\n",
       "      <td>0.002987</td>\n",
       "      <td>0.011847</td>\n",
       "      <td>-0.064560</td>\n",
       "      <td>-0.014445</td>\n",
       "      <td>0.063291</td>\n",
       "      <td>0.134355</td>\n",
       "      <td>-0.110601</td>\n",
       "      <td>-0.008922</td>\n",
       "      <td>0.096056</td>\n",
       "    </tr>\n",
       "    <tr>\n",
       "      <th>age</th>\n",
       "      <td>-0.025380</td>\n",
       "      <td>1.000000</td>\n",
       "      <td>-0.209728</td>\n",
       "      <td>-0.211334</td>\n",
       "      <td>0.127314</td>\n",
       "      <td>0.050446</td>\n",
       "      <td>0.304856</td>\n",
       "      <td>0.109173</td>\n",
       "      <td>0.287662</td>\n",
       "      <td>0.385982</td>\n",
       "      <td>0.208533</td>\n",
       "      <td>0.144913</td>\n",
       "      <td>-0.008718</td>\n",
       "      <td>0.112617</td>\n",
       "      <td>0.228873</td>\n",
       "    </tr>\n",
       "    <tr>\n",
       "      <th>currentSmoker</th>\n",
       "      <td>0.203861</td>\n",
       "      <td>-0.209728</td>\n",
       "      <td>1.000000</td>\n",
       "      <td>0.933517</td>\n",
       "      <td>-0.051828</td>\n",
       "      <td>-0.037582</td>\n",
       "      <td>-0.104753</td>\n",
       "      <td>-0.045319</td>\n",
       "      <td>-0.054410</td>\n",
       "      <td>-0.132634</td>\n",
       "      <td>-0.119939</td>\n",
       "      <td>-0.171562</td>\n",
       "      <td>0.062916</td>\n",
       "      <td>-0.076509</td>\n",
       "      <td>0.021722</td>\n",
       "    </tr>\n",
       "    <tr>\n",
       "      <th>cigsPerDay</th>\n",
       "      <td>0.289066</td>\n",
       "      <td>-0.211334</td>\n",
       "      <td>0.933517</td>\n",
       "      <td>1.000000</td>\n",
       "      <td>-0.052152</td>\n",
       "      <td>-0.039793</td>\n",
       "      <td>-0.092697</td>\n",
       "      <td>-0.043581</td>\n",
       "      <td>-0.044757</td>\n",
       "      <td>-0.113808</td>\n",
       "      <td>-0.090722</td>\n",
       "      <td>-0.137550</td>\n",
       "      <td>0.070277</td>\n",
       "      <td>-0.086375</td>\n",
       "      <td>0.042859</td>\n",
       "    </tr>\n",
       "    <tr>\n",
       "      <th>BPMeds</th>\n",
       "      <td>-0.052359</td>\n",
       "      <td>0.127314</td>\n",
       "      <td>-0.051828</td>\n",
       "      <td>-0.052152</td>\n",
       "      <td>1.000000</td>\n",
       "      <td>0.111595</td>\n",
       "      <td>0.263089</td>\n",
       "      <td>0.056322</td>\n",
       "      <td>0.086004</td>\n",
       "      <td>0.213349</td>\n",
       "      <td>0.183217</td>\n",
       "      <td>0.091138</td>\n",
       "      <td>-0.005895</td>\n",
       "      <td>0.012217</td>\n",
       "      <td>0.084704</td>\n",
       "    </tr>\n",
       "    <tr>\n",
       "      <th>prevalentStroke</th>\n",
       "      <td>-0.002509</td>\n",
       "      <td>0.050446</td>\n",
       "      <td>-0.037582</td>\n",
       "      <td>-0.039793</td>\n",
       "      <td>0.111595</td>\n",
       "      <td>1.000000</td>\n",
       "      <td>0.065208</td>\n",
       "      <td>0.009417</td>\n",
       "      <td>0.016547</td>\n",
       "      <td>0.061332</td>\n",
       "      <td>0.055636</td>\n",
       "      <td>0.017864</td>\n",
       "      <td>-0.012173</td>\n",
       "      <td>0.009811</td>\n",
       "      <td>0.047669</td>\n",
       "    </tr>\n",
       "    <tr>\n",
       "      <th>prevalentHyp</th>\n",
       "      <td>0.002987</td>\n",
       "      <td>0.304856</td>\n",
       "      <td>-0.104753</td>\n",
       "      <td>-0.092697</td>\n",
       "      <td>0.263089</td>\n",
       "      <td>0.065208</td>\n",
       "      <td>1.000000</td>\n",
       "      <td>0.082096</td>\n",
       "      <td>0.162706</td>\n",
       "      <td>0.697654</td>\n",
       "      <td>0.616238</td>\n",
       "      <td>0.288438</td>\n",
       "      <td>0.130288</td>\n",
       "      <td>0.086608</td>\n",
       "      <td>0.178779</td>\n",
       "    </tr>\n",
       "    <tr>\n",
       "      <th>diabetes</th>\n",
       "      <td>0.011847</td>\n",
       "      <td>0.109173</td>\n",
       "      <td>-0.045319</td>\n",
       "      <td>-0.043581</td>\n",
       "      <td>0.056322</td>\n",
       "      <td>0.009417</td>\n",
       "      <td>0.082096</td>\n",
       "      <td>1.000000</td>\n",
       "      <td>0.036025</td>\n",
       "      <td>0.090726</td>\n",
       "      <td>0.047396</td>\n",
       "      <td>0.075931</td>\n",
       "      <td>0.063628</td>\n",
       "      <td>0.223661</td>\n",
       "      <td>0.093190</td>\n",
       "    </tr>\n",
       "    <tr>\n",
       "      <th>totChol</th>\n",
       "      <td>-0.064560</td>\n",
       "      <td>0.287662</td>\n",
       "      <td>-0.054410</td>\n",
       "      <td>-0.044757</td>\n",
       "      <td>0.086004</td>\n",
       "      <td>0.016547</td>\n",
       "      <td>0.162706</td>\n",
       "      <td>0.036025</td>\n",
       "      <td>1.000000</td>\n",
       "      <td>0.230371</td>\n",
       "      <td>0.190897</td>\n",
       "      <td>0.150011</td>\n",
       "      <td>0.093325</td>\n",
       "      <td>0.029591</td>\n",
       "      <td>0.086189</td>\n",
       "    </tr>\n",
       "    <tr>\n",
       "      <th>sysBP</th>\n",
       "      <td>-0.014445</td>\n",
       "      <td>0.385982</td>\n",
       "      <td>-0.132634</td>\n",
       "      <td>-0.113808</td>\n",
       "      <td>0.213349</td>\n",
       "      <td>0.061332</td>\n",
       "      <td>0.697654</td>\n",
       "      <td>0.090726</td>\n",
       "      <td>0.230371</td>\n",
       "      <td>1.000000</td>\n",
       "      <td>0.780045</td>\n",
       "      <td>0.326882</td>\n",
       "      <td>0.171678</td>\n",
       "      <td>0.117990</td>\n",
       "      <td>0.195925</td>\n",
       "    </tr>\n",
       "    <tr>\n",
       "      <th>diaBP</th>\n",
       "      <td>0.063291</td>\n",
       "      <td>0.208533</td>\n",
       "      <td>-0.119939</td>\n",
       "      <td>-0.090722</td>\n",
       "      <td>0.183217</td>\n",
       "      <td>0.055636</td>\n",
       "      <td>0.616238</td>\n",
       "      <td>0.047396</td>\n",
       "      <td>0.190897</td>\n",
       "      <td>0.780045</td>\n",
       "      <td>1.000000</td>\n",
       "      <td>0.377626</td>\n",
       "      <td>0.175872</td>\n",
       "      <td>0.051351</td>\n",
       "      <td>0.131810</td>\n",
       "    </tr>\n",
       "    <tr>\n",
       "      <th>BMI</th>\n",
       "      <td>0.134355</td>\n",
       "      <td>0.144913</td>\n",
       "      <td>-0.171562</td>\n",
       "      <td>-0.137550</td>\n",
       "      <td>0.091138</td>\n",
       "      <td>0.017864</td>\n",
       "      <td>0.288438</td>\n",
       "      <td>0.075931</td>\n",
       "      <td>0.150011</td>\n",
       "      <td>0.326882</td>\n",
       "      <td>0.377626</td>\n",
       "      <td>1.000000</td>\n",
       "      <td>0.058222</td>\n",
       "      <td>0.072598</td>\n",
       "      <td>0.080694</td>\n",
       "    </tr>\n",
       "    <tr>\n",
       "      <th>heartRate</th>\n",
       "      <td>-0.110601</td>\n",
       "      <td>-0.008718</td>\n",
       "      <td>0.062916</td>\n",
       "      <td>0.070277</td>\n",
       "      <td>-0.005895</td>\n",
       "      <td>-0.012173</td>\n",
       "      <td>0.130288</td>\n",
       "      <td>0.063628</td>\n",
       "      <td>0.093325</td>\n",
       "      <td>0.171678</td>\n",
       "      <td>0.175872</td>\n",
       "      <td>0.058222</td>\n",
       "      <td>1.000000</td>\n",
       "      <td>0.098848</td>\n",
       "      <td>0.016252</td>\n",
       "    </tr>\n",
       "    <tr>\n",
       "      <th>glucose</th>\n",
       "      <td>-0.008922</td>\n",
       "      <td>0.112617</td>\n",
       "      <td>-0.076509</td>\n",
       "      <td>-0.086375</td>\n",
       "      <td>0.012217</td>\n",
       "      <td>0.009811</td>\n",
       "      <td>0.086608</td>\n",
       "      <td>0.223661</td>\n",
       "      <td>0.029591</td>\n",
       "      <td>0.117990</td>\n",
       "      <td>0.051351</td>\n",
       "      <td>0.072598</td>\n",
       "      <td>0.098848</td>\n",
       "      <td>1.000000</td>\n",
       "      <td>0.056321</td>\n",
       "    </tr>\n",
       "    <tr>\n",
       "      <th>TenYearCHD</th>\n",
       "      <td>0.096056</td>\n",
       "      <td>0.228873</td>\n",
       "      <td>0.021722</td>\n",
       "      <td>0.042859</td>\n",
       "      <td>0.084704</td>\n",
       "      <td>0.047669</td>\n",
       "      <td>0.178779</td>\n",
       "      <td>0.093190</td>\n",
       "      <td>0.086189</td>\n",
       "      <td>0.195925</td>\n",
       "      <td>0.131810</td>\n",
       "      <td>0.080694</td>\n",
       "      <td>0.016252</td>\n",
       "      <td>0.056321</td>\n",
       "      <td>1.000000</td>\n",
       "    </tr>\n",
       "  </tbody>\n",
       "</table>\n",
       "</div>"
      ],
      "text/plain": [
       "                     male       age  currentSmoker  cigsPerDay    BPMeds  \\\n",
       "male             1.000000 -0.025380       0.203861    0.289066 -0.052359   \n",
       "age             -0.025380  1.000000      -0.209728   -0.211334  0.127314   \n",
       "currentSmoker    0.203861 -0.209728       1.000000    0.933517 -0.051828   \n",
       "cigsPerDay       0.289066 -0.211334       0.933517    1.000000 -0.052152   \n",
       "BPMeds          -0.052359  0.127314      -0.051828   -0.052152  1.000000   \n",
       "prevalentStroke -0.002509  0.050446      -0.037582   -0.039793  0.111595   \n",
       "prevalentHyp     0.002987  0.304856      -0.104753   -0.092697  0.263089   \n",
       "diabetes         0.011847  0.109173      -0.045319   -0.043581  0.056322   \n",
       "totChol         -0.064560  0.287662      -0.054410   -0.044757  0.086004   \n",
       "sysBP           -0.014445  0.385982      -0.132634   -0.113808  0.213349   \n",
       "diaBP            0.063291  0.208533      -0.119939   -0.090722  0.183217   \n",
       "BMI              0.134355  0.144913      -0.171562   -0.137550  0.091138   \n",
       "heartRate       -0.110601 -0.008718       0.062916    0.070277 -0.005895   \n",
       "glucose         -0.008922  0.112617      -0.076509   -0.086375  0.012217   \n",
       "TenYearCHD       0.096056  0.228873       0.021722    0.042859  0.084704   \n",
       "\n",
       "                 prevalentStroke  prevalentHyp  diabetes   totChol     sysBP  \\\n",
       "male                   -0.002509      0.002987  0.011847 -0.064560 -0.014445   \n",
       "age                     0.050446      0.304856  0.109173  0.287662  0.385982   \n",
       "currentSmoker          -0.037582     -0.104753 -0.045319 -0.054410 -0.132634   \n",
       "cigsPerDay             -0.039793     -0.092697 -0.043581 -0.044757 -0.113808   \n",
       "BPMeds                  0.111595      0.263089  0.056322  0.086004  0.213349   \n",
       "prevalentStroke         1.000000      0.065208  0.009417  0.016547  0.061332   \n",
       "prevalentHyp            0.065208      1.000000  0.082096  0.162706  0.697654   \n",
       "diabetes                0.009417      0.082096  1.000000  0.036025  0.090726   \n",
       "totChol                 0.016547      0.162706  0.036025  1.000000  0.230371   \n",
       "sysBP                   0.061332      0.697654  0.090726  0.230371  1.000000   \n",
       "diaBP                   0.055636      0.616238  0.047396  0.190897  0.780045   \n",
       "BMI                     0.017864      0.288438  0.075931  0.150011  0.326882   \n",
       "heartRate              -0.012173      0.130288  0.063628  0.093325  0.171678   \n",
       "glucose                 0.009811      0.086608  0.223661  0.029591  0.117990   \n",
       "TenYearCHD              0.047669      0.178779  0.093190  0.086189  0.195925   \n",
       "\n",
       "                    diaBP       BMI  heartRate   glucose  TenYearCHD  \n",
       "male             0.063291  0.134355  -0.110601 -0.008922    0.096056  \n",
       "age              0.208533  0.144913  -0.008718  0.112617    0.228873  \n",
       "currentSmoker   -0.119939 -0.171562   0.062916 -0.076509    0.021722  \n",
       "cigsPerDay      -0.090722 -0.137550   0.070277 -0.086375    0.042859  \n",
       "BPMeds           0.183217  0.091138  -0.005895  0.012217    0.084704  \n",
       "prevalentStroke  0.055636  0.017864  -0.012173  0.009811    0.047669  \n",
       "prevalentHyp     0.616238  0.288438   0.130288  0.086608    0.178779  \n",
       "diabetes         0.047396  0.075931   0.063628  0.223661    0.093190  \n",
       "totChol          0.190897  0.150011   0.093325  0.029591    0.086189  \n",
       "sysBP            0.780045  0.326882   0.171678  0.117990    0.195925  \n",
       "diaBP            1.000000  0.377626   0.175872  0.051351    0.131810  \n",
       "BMI              0.377626  1.000000   0.058222  0.072598    0.080694  \n",
       "heartRate        0.175872  0.058222   1.000000  0.098848    0.016252  \n",
       "glucose          0.051351  0.072598   0.098848  1.000000    0.056321  \n",
       "TenYearCHD       0.131810  0.080694   0.016252  0.056321    1.000000  "
      ]
     },
     "execution_count": 7,
     "metadata": {},
     "output_type": "execute_result"
    }
   ],
   "source": [
    "model.data.corr(\"spearman\")"
   ]
  },
  {
   "cell_type": "code",
   "execution_count": 13,
   "metadata": {},
   "outputs": [
    {
     "data": {
      "text/plain": [
       "array([<matplotlib.axes._subplots.AxesSubplot object at 0x1a17aa1630>,\n",
       "       <matplotlib.axes._subplots.AxesSubplot object at 0x1a1626f710>],\n",
       "      dtype=object)"
      ]
     },
     "execution_count": 13,
     "metadata": {},
     "output_type": "execute_result"
    },
    {
     "data": {
      "image/png": "[encoded data removed]",
      "text/plain": [
       "<Figure size 432x288 with 2 Axes>"
      ]
     },
     "metadata": {
      "needs_background": "light"
     },
     "output_type": "display_data"
    }
   ],
   "source": [
    "model.data.hist(\"glucose\", \"TenYearCHD\")"
   ]
  },
  {
   "cell_type": "code",
   "execution_count": 15,
   "metadata": {},
   "outputs": [
    {
     "data": {
      "text/plain": [
       "array([<matplotlib.axes._subplots.AxesSubplot object at 0x1a17dc1d68>,\n",
       "       <matplotlib.axes._subplots.AxesSubplot object at 0x1a17ddea20>],\n",
       "      dtype=object)"
      ]
     },
     "execution_count": 15,
     "metadata": {},
     "output_type": "execute_result"
    },
    {
     "data": {
      "image/png": "[encoded data removed]",
      "text/plain": [
       "<Figure size 432x288 with 2 Axes>"
      ]
     },
     "metadata": {
      "needs_background": "light"
     },
     "output_type": "display_data"
    }
   ],
   "source": [
    "model.data.hist(\"cigsPerDay\", \"TenYearCHD\")"
   ]
  },
  {
   "cell_type": "code",
   "execution_count": null,
   "metadata": {},
   "outputs": [],
   "source": []
  }
 ],
 "metadata": {
  "kernelspec": {
   "display_name": "Python 3",
   "language": "python",
   "name": "python3"
  },
  "language_info": {
   "codemirror_mode": {
    "name": "ipython",
    "version": 3
   },
   "file_extension": ".py",
   "mimetype": "text/x-python",
   "name": "python",
   "nbconvert_exporter": "python",
   "pygments_lexer": "ipython3",
   "version": "3.7.3"
  }
 },
 "nbformat": 4,
 "nbformat_minor": 4
}
