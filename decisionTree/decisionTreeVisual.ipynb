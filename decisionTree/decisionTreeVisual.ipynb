{
 "cells": [
  {
   "cell_type": "code",
   "execution_count": 26,
   "metadata": {},
   "outputs": [],
   "source": [
    "from sklearn.tree import DecisionTreeClassifier\n",
    "from sklearn import tree\n",
    "import pydot"
   ]
  },
  {
   "cell_type": "code",
   "execution_count": 27,
   "metadata": {},
   "outputs": [],
   "source": [
    "import pandas as pd\n",
    "from sklearn.model_selection import train_test_split\n",
    "from sklearn.linear_model import LogisticRegression\n",
    "import numpy as np \n",
    "from sklearn.metrics import accuracy_score\n",
    "\n",
    "class Model:\n",
    "    def __init__(self):\n",
    "        self.model = None\n",
    "        self.target = None\n",
    "        self.features = None\n",
    "        self.data = None\n",
    "        self.testX = None\n",
    "        self.testY = None\n",
    "        self.trainX = None\n",
    "        self.trainY = None\n",
    "        \n",
    "    def _readDataset(self, filename):\n",
    "        self.data = pd.read_csv(filename)\n",
    "\n",
    "    def _dropNulls(self):\n",
    "        self.data.drop([\"education\"], axis = 1, inplace = True) #dropping this improved accuracy\n",
    "        self.data.dropna(inplace = True)\n",
    "    \n",
    "    def _saveProcessedData(self):\n",
    "        self.features = self.data.drop(\"TenYearCHD\", axis = 1)\n",
    "        self.target = self.data.TenYearCHD\n",
    "\n",
    "    def _trainTestSplit(self):\n",
    "        self.trainX, self.testX, self.trainY, self.testY = train_test_split(self.features, self.target, test_size=0.2)\n",
    "    \n",
    "    def preProcessing(self, filename):\n",
    "        self._readDataset(filename)\n",
    "        self._dropNulls()\n",
    "        self.data.reset_index(drop = True)\n",
    "        self._saveProcessedData()\n",
    "        self._trainTestSplit()\n",
    "        #display(self.data.corr())"
   ]
  },
  {
   "cell_type": "code",
   "execution_count": 31,
   "metadata": {},
   "outputs": [
    {
     "data": {
      "text/plain": [
       "DecisionTreeClassifier(class_weight=None, criterion='gini', max_depth=5,\n",
       "                       max_features=None, max_leaf_nodes=None,\n",
       "                       min_impurity_decrease=0.0, min_impurity_split=None,\n",
       "                       min_samples_leaf=1, min_samples_split=2,\n",
       "                       min_weight_fraction_leaf=0.0, presort=False,\n",
       "                       random_state=None, splitter='best')"
      ]
     },
     "execution_count": 31,
     "metadata": {},
     "output_type": "execute_result"
    }
   ],
   "source": [
    "tree1 = DecisionTreeClassifier(max_depth = 5)\n",
    "model = Model()\n",
    "model.preProcessing(\"framingham.csv\")\n",
    "\n",
    "tree1.fit(model.trainX, model.trainY)\n"
   ]
  },
  {
   "cell_type": "code",
   "execution_count": 32,
   "metadata": {},
   "outputs": [
    {
     "data": {
      "text/plain": [
       "[Text(150.66000000000003, 199.32, 'X[1] <= 46.5\\ngini = 0.262\\nsamples = 2999\\nvalue = [2535, 464]'),\n",
       " Text(65.286, 163.07999999999998, 'X[9] <= 152.75\\ngini = 0.127\\nsamples = 1249\\nvalue = [1164, 85]'),\n",
       " Text(33.480000000000004, 126.83999999999999, 'X[11] <= 39.815\\ngini = 0.112\\nsamples = 1175\\nvalue = [1105, 70]'),\n",
       " Text(20.088, 90.6, 'X[8] <= 437.0\\ngini = 0.109\\nsamples = 1172\\nvalue = [1104, 68]'),\n",
       " Text(13.392000000000001, 54.359999999999985, 'X[3] <= 9.5\\ngini = 0.108\\nsamples = 1171\\nvalue = [1104, 67]'),\n",
       " Text(6.696000000000001, 18.119999999999976, 'gini = 0.067\\nsamples = 607\\nvalue = [586, 21]'),\n",
       " Text(20.088, 18.119999999999976, 'gini = 0.15\\nsamples = 564\\nvalue = [518, 46]'),\n",
       " Text(26.784000000000002, 54.359999999999985, 'gini = 0.0\\nsamples = 1\\nvalue = [0, 1]'),\n",
       " Text(46.87200000000001, 90.6, 'X[10] <= 95.0\\ngini = 0.444\\nsamples = 3\\nvalue = [1, 2]'),\n",
       " Text(40.176, 54.359999999999985, 'gini = 0.0\\nsamples = 2\\nvalue = [0, 2]'),\n",
       " Text(53.568000000000005, 54.359999999999985, 'gini = 0.0\\nsamples = 1\\nvalue = [1, 0]'),\n",
       " Text(97.09200000000001, 126.83999999999999, 'X[12] <= 74.0\\ngini = 0.323\\nsamples = 74\\nvalue = [59, 15]'),\n",
       " Text(73.656, 90.6, 'X[8] <= 210.0\\ngini = 0.492\\nsamples = 16\\nvalue = [9, 7]'),\n",
       " Text(66.96000000000001, 54.359999999999985, 'gini = 0.0\\nsamples = 3\\nvalue = [0, 3]'),\n",
       " Text(80.352, 54.359999999999985, 'X[10] <= 110.5\\ngini = 0.426\\nsamples = 13\\nvalue = [9, 4]'),\n",
       " Text(73.656, 18.119999999999976, 'gini = 0.0\\nsamples = 7\\nvalue = [7, 0]'),\n",
       " Text(87.048, 18.119999999999976, 'gini = 0.444\\nsamples = 6\\nvalue = [2, 4]'),\n",
       " Text(120.528, 90.6, 'X[8] <= 262.0\\ngini = 0.238\\nsamples = 58\\nvalue = [50, 8]'),\n",
       " Text(107.13600000000001, 54.359999999999985, 'X[6] <= 0.5\\ngini = 0.053\\nsamples = 37\\nvalue = [36, 1]'),\n",
       " Text(100.44000000000001, 18.119999999999976, 'gini = 0.32\\nsamples = 5\\nvalue = [4, 1]'),\n",
       " Text(113.83200000000001, 18.119999999999976, 'gini = 0.0\\nsamples = 32\\nvalue = [32, 0]'),\n",
       " Text(133.92000000000002, 54.359999999999985, 'X[0] <= 0.5\\ngini = 0.444\\nsamples = 21\\nvalue = [14, 7]'),\n",
       " Text(127.22400000000002, 18.119999999999976, 'gini = 0.0\\nsamples = 10\\nvalue = [10, 0]'),\n",
       " Text(140.616, 18.119999999999976, 'gini = 0.463\\nsamples = 11\\nvalue = [4, 7]'),\n",
       " Text(236.03400000000002, 163.07999999999998, 'X[9] <= 144.25\\ngini = 0.339\\nsamples = 1750\\nvalue = [1371, 379]'),\n",
       " Text(190.836, 126.83999999999999, 'X[13] <= 147.5\\ngini = 0.277\\nsamples = 1150\\nvalue = [959, 191]'),\n",
       " Text(174.096, 90.6, 'X[11] <= 36.415\\ngini = 0.267\\nsamples = 1132\\nvalue = [952, 180]'),\n",
       " Text(160.704, 54.359999999999985, 'X[1] <= 57.5\\ngini = 0.263\\nsamples = 1125\\nvalue = [950, 175]'),\n",
       " Text(154.008, 18.119999999999976, 'gini = 0.225\\nsamples = 775\\nvalue = [675, 100]'),\n",
       " Text(167.4, 18.119999999999976, 'gini = 0.337\\nsamples = 350\\nvalue = [275, 75]'),\n",
       " Text(187.48800000000003, 54.359999999999985, 'X[10] <= 84.0\\ngini = 0.408\\nsamples = 7\\nvalue = [2, 5]'),\n",
       " Text(180.79200000000003, 18.119999999999976, 'gini = 0.0\\nsamples = 2\\nvalue = [2, 0]'),\n",
       " Text(194.18400000000003, 18.119999999999976, 'gini = 0.0\\nsamples = 5\\nvalue = [0, 5]'),\n",
       " Text(207.57600000000002, 90.6, 'X[0] <= 0.5\\ngini = 0.475\\nsamples = 18\\nvalue = [7, 11]'),\n",
       " Text(200.88000000000002, 54.359999999999985, 'gini = 0.0\\nsamples = 5\\nvalue = [5, 0]'),\n",
       " Text(214.27200000000002, 54.359999999999985, 'X[12] <= 59.5\\ngini = 0.26\\nsamples = 13\\nvalue = [2, 11]'),\n",
       " Text(207.57600000000002, 18.119999999999976, 'gini = 0.0\\nsamples = 1\\nvalue = [1, 0]'),\n",
       " Text(220.96800000000002, 18.119999999999976, 'gini = 0.153\\nsamples = 12\\nvalue = [1, 11]'),\n",
       " Text(281.232, 126.83999999999999, 'X[0] <= 0.5\\ngini = 0.43\\nsamples = 600\\nvalue = [412, 188]'),\n",
       " Text(254.44800000000004, 90.6, 'X[1] <= 54.5\\ngini = 0.383\\nsamples = 388\\nvalue = [288, 100]'),\n",
       " Text(241.056, 54.359999999999985, 'X[13] <= 121.0\\ngini = 0.174\\nsamples = 125\\nvalue = [113, 12]'),\n",
       " Text(234.36, 18.119999999999976, 'gini = 0.112\\nsamples = 118\\nvalue = [111, 7]'),\n",
       " Text(247.752, 18.119999999999976, 'gini = 0.408\\nsamples = 7\\nvalue = [2, 5]'),\n",
       " Text(267.84000000000003, 54.359999999999985, 'X[9] <= 192.5\\ngini = 0.445\\nsamples = 263\\nvalue = [175, 88]'),\n",
       " Text(261.144, 18.119999999999976, 'gini = 0.419\\nsamples = 231\\nvalue = [162, 69]'),\n",
       " Text(274.536, 18.119999999999976, 'gini = 0.482\\nsamples = 32\\nvalue = [13, 19]'),\n",
       " Text(308.016, 90.6, 'X[13] <= 92.5\\ngini = 0.486\\nsamples = 212\\nvalue = [124, 88]'),\n",
       " Text(294.624, 54.359999999999985, 'X[9] <= 160.25\\ngini = 0.461\\nsamples = 172\\nvalue = [110, 62]'),\n",
       " Text(287.92800000000005, 18.119999999999976, 'gini = 0.392\\nsamples = 97\\nvalue = [71, 26]'),\n",
       " Text(301.32000000000005, 18.119999999999976, 'gini = 0.499\\nsamples = 75\\nvalue = [39, 36]'),\n",
       " Text(321.408, 54.359999999999985, 'X[10] <= 86.75\\ngini = 0.455\\nsamples = 40\\nvalue = [14, 26]'),\n",
       " Text(314.71200000000005, 18.119999999999976, 'gini = 0.444\\nsamples = 12\\nvalue = [8, 4]'),\n",
       " Text(328.10400000000004, 18.119999999999976, 'gini = 0.337\\nsamples = 28\\nvalue = [6, 22]')]"
      ]
     },
     "execution_count": 32,
     "metadata": {},
     "output_type": "execute_result"
    },
    {
     "data": {
      "image/png": "[encoded data removed]",
      "text/plain": [
       "<Figure size 432x288 with 1 Axes>"
      ]
     },
     "metadata": {
      "needs_background": "light"
     },
     "output_type": "display_data"
    }
   ],
   "source": [
    "tree.plot_tree(tree1.fit(model.trainX, model.trainY))"
   ]
  },
  {
   "cell_type": "code",
   "execution_count": 33,
   "metadata": {},
   "outputs": [
    {
     "name": "stderr",
     "output_type": "stream",
     "text": [
      "'C:\\Users\\Mudasir' is not recognized as an internal or external command,\n",
      "operable program or batch file.\n"
     ]
    },
    {
     "ename": "CalledProcessError",
     "evalue": "Command '['dot.bat', '-Tpdf', '-O', 'final']' returned non-zero exit status 1. [stderr: b\"'C:\\\\Users\\\\Mudasir' is not recognized as an internal or external command,\\r\\noperable program or batch file.\\r\\n\"]",
     "output_type": "error",
     "traceback": [
      "\u001b[1;31m---------------------------------------------------------------------------\u001b[0m",
      "\u001b[1;31mCalledProcessError\u001b[0m                        Traceback (most recent call last)",
      "\u001b[1;32m<ipython-input-33-2b7d4036d8df>\u001b[0m in \u001b[0;36m<module>\u001b[1;34m\u001b[0m\n\u001b[0;32m     12\u001b[0m                       feature_names=list(model.features.columns), class_names = [\"0\", \"1\"])\n\u001b[0;32m     13\u001b[0m \u001b[0mgraph\u001b[0m \u001b[1;33m=\u001b[0m \u001b[0mgraphviz\u001b[0m\u001b[1;33m.\u001b[0m\u001b[0mSource\u001b[0m\u001b[1;33m(\u001b[0m\u001b[0mdot_data\u001b[0m\u001b[1;33m)\u001b[0m\u001b[1;33m\u001b[0m\u001b[1;33m\u001b[0m\u001b[0m\n\u001b[1;32m---> 14\u001b[1;33m \u001b[0mgraph\u001b[0m\u001b[1;33m.\u001b[0m\u001b[0mrender\u001b[0m\u001b[1;33m(\u001b[0m\u001b[1;34m'final'\u001b[0m\u001b[1;33m)\u001b[0m\u001b[1;33m\u001b[0m\u001b[1;33m\u001b[0m\u001b[0m\n\u001b[0m\u001b[0;32m     15\u001b[0m \u001b[1;31m#Image(filename = 'tree_nonlimited.png')\u001b[0m\u001b[1;33m\u001b[0m\u001b[1;33m\u001b[0m\u001b[1;33m\u001b[0m\u001b[0m\n",
      "\u001b[1;32m~\\Anaconda3\\lib\\site-packages\\graphviz\\files.py\u001b[0m in \u001b[0;36mrender\u001b[1;34m(self, filename, directory, view, cleanup, format, renderer, formatter, quiet, quiet_view)\u001b[0m\n\u001b[0;32m    207\u001b[0m         rendered = backend.render(self._engine, format, filepath,\n\u001b[0;32m    208\u001b[0m                                   \u001b[0mrenderer\u001b[0m\u001b[1;33m=\u001b[0m\u001b[0mrenderer\u001b[0m\u001b[1;33m,\u001b[0m \u001b[0mformatter\u001b[0m\u001b[1;33m=\u001b[0m\u001b[0mformatter\u001b[0m\u001b[1;33m,\u001b[0m\u001b[1;33m\u001b[0m\u001b[1;33m\u001b[0m\u001b[0m\n\u001b[1;32m--> 209\u001b[1;33m                                   quiet=quiet)\n\u001b[0m\u001b[0;32m    210\u001b[0m \u001b[1;33m\u001b[0m\u001b[0m\n\u001b[0;32m    211\u001b[0m         \u001b[1;32mif\u001b[0m \u001b[0mcleanup\u001b[0m\u001b[1;33m:\u001b[0m\u001b[1;33m\u001b[0m\u001b[1;33m\u001b[0m\u001b[0m\n",
      "\u001b[1;32m~\\Anaconda3\\lib\\site-packages\\graphviz\\backend.py\u001b[0m in \u001b[0;36mrender\u001b[1;34m(engine, format, filepath, renderer, formatter, quiet)\u001b[0m\n\u001b[0;32m    206\u001b[0m     \u001b[1;32melse\u001b[0m\u001b[1;33m:\u001b[0m\u001b[1;33m\u001b[0m\u001b[1;33m\u001b[0m\u001b[0m\n\u001b[0;32m    207\u001b[0m         \u001b[0mcwd\u001b[0m \u001b[1;33m=\u001b[0m \u001b[1;32mNone\u001b[0m\u001b[1;33m\u001b[0m\u001b[1;33m\u001b[0m\u001b[0m\n\u001b[1;32m--> 208\u001b[1;33m     \u001b[0mrun\u001b[0m\u001b[1;33m(\u001b[0m\u001b[0mcmd\u001b[0m\u001b[1;33m,\u001b[0m \u001b[0mcapture_output\u001b[0m\u001b[1;33m=\u001b[0m\u001b[1;32mTrue\u001b[0m\u001b[1;33m,\u001b[0m \u001b[0mcwd\u001b[0m\u001b[1;33m=\u001b[0m\u001b[0mcwd\u001b[0m\u001b[1;33m,\u001b[0m \u001b[0mcheck\u001b[0m\u001b[1;33m=\u001b[0m\u001b[1;32mTrue\u001b[0m\u001b[1;33m,\u001b[0m \u001b[0mquiet\u001b[0m\u001b[1;33m=\u001b[0m\u001b[0mquiet\u001b[0m\u001b[1;33m)\u001b[0m\u001b[1;33m\u001b[0m\u001b[1;33m\u001b[0m\u001b[0m\n\u001b[0m\u001b[0;32m    209\u001b[0m     \u001b[1;32mreturn\u001b[0m \u001b[0mrendered\u001b[0m\u001b[1;33m\u001b[0m\u001b[1;33m\u001b[0m\u001b[0m\n\u001b[0;32m    210\u001b[0m \u001b[1;33m\u001b[0m\u001b[0m\n",
      "\u001b[1;32m~\\Anaconda3\\lib\\site-packages\\graphviz\\backend.py\u001b[0m in \u001b[0;36mrun\u001b[1;34m(cmd, input, capture_output, check, quiet, **kwargs)\u001b[0m\n\u001b[0;32m    172\u001b[0m     \u001b[1;32mif\u001b[0m \u001b[0mcheck\u001b[0m \u001b[1;32mand\u001b[0m \u001b[0mproc\u001b[0m\u001b[1;33m.\u001b[0m\u001b[0mreturncode\u001b[0m\u001b[1;33m:\u001b[0m\u001b[1;33m\u001b[0m\u001b[1;33m\u001b[0m\u001b[0m\n\u001b[0;32m    173\u001b[0m         raise CalledProcessError(proc.returncode, cmd,\n\u001b[1;32m--> 174\u001b[1;33m                                  output=out, stderr=err)\n\u001b[0m\u001b[0;32m    175\u001b[0m \u001b[1;33m\u001b[0m\u001b[0m\n\u001b[0;32m    176\u001b[0m     \u001b[1;32mreturn\u001b[0m \u001b[0mout\u001b[0m\u001b[1;33m,\u001b[0m \u001b[0merr\u001b[0m\u001b[1;33m\u001b[0m\u001b[1;33m\u001b[0m\u001b[0m\n",
      "\u001b[1;31mCalledProcessError\u001b[0m: Command '['dot.bat', '-Tpdf', '-O', 'final']' returned non-zero exit status 1. [stderr: b\"'C:\\\\Users\\\\Mudasir' is not recognized as an internal or external command,\\r\\noperable program or batch file.\\r\\n\"]"
     ]
    }
   ],
   "source": [
    "from sklearn.externals.six import StringIO  \n",
    "from IPython.display import Image  \n",
    "from sklearn.tree import export_graphviz\n",
    "import graphviz\n",
    "import pydotplus \n",
    "\n",
    "# export_graphviz(tree, out_file=\"tree_nonlimited.dot\",  \n",
    "  #              filled=True, rounded=True,\n",
    "   #             special_characters=True)\n",
    "\n",
    "dot_data = tree.export_graphviz(tree1, out_file=None, \n",
    "                      feature_names=list(model.features.columns), class_names = [\"0\", \"1\"])\n",
    "graph = graphviz.Source(dot_data)  \n",
    "graph.render('final')\n",
    "#Image(filename = 'tree_nonlimited.png')"
   ]
  },
  {
   "cell_type": "code",
   "execution_count": null,
   "metadata": {},
   "outputs": [],
   "source": []
  },
  {
   "cell_type": "code",
   "execution_count": null,
   "metadata": {},
   "outputs": [],
   "source": []
  }
 ],
 "metadata": {
  "kernelspec": {
   "display_name": "Python 3",
   "language": "python",
   "name": "python3"
  },
  "language_info": {
   "codemirror_mode": {
    "name": "ipython",
    "version": 3
   },
   "file_extension": ".py",
   "mimetype": "text/x-python",
   "name": "python",
   "nbconvert_exporter": "python",
   "pygments_lexer": "ipython3",
   "version": "3.7.4"
  }
 },
 "nbformat": 4,
 "nbformat_minor": 4
}
