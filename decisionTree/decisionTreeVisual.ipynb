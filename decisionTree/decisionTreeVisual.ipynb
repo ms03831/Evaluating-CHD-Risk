{
 "cells": [
  {
   "cell_type": "code",
   "execution_count": 23,
   "metadata": {},
   "outputs": [],
   "source": [
    "from sklearn.tree import DecisionTreeClassifier\n",
    "from sklearn import tree\n",
    "import pydot"
   ]
  },
  {
   "cell_type": "code",
   "execution_count": 24,
   "metadata": {},
   "outputs": [],
   "source": [
    "import pandas as pd\n",
    "from sklearn.model_selection import train_test_split\n",
    "from sklearn.linear_model import LogisticRegression\n",
    "import numpy as np \n",
    "from sklearn.metrics import accuracy_score\n",
    "\n",
    "class Model:\n",
    "    def __init__(self):\n",
    "        self.model = None\n",
    "        self.target = None\n",
    "        self.features = None\n",
    "        self.data = None\n",
    "        self.testX = None\n",
    "        self.testY = None\n",
    "        self.trainX = None\n",
    "        self.trainY = None\n",
    "        \n",
    "    def _readDataset(self, filename):\n",
    "        self.data = pd.read_csv(filename)\n",
    "\n",
    "    def _dropNulls(self):\n",
    "        self.data.drop([\"education\"], axis = 1, inplace = True) #dropping this improved accuracy\n",
    "        self.data.dropna(inplace = True)\n",
    "    \n",
    "    def _saveProcessedData(self):\n",
    "        self.features = self.data.drop(\"TenYearCHD\", axis = 1)\n",
    "        self.target = self.data.TenYearCHD\n",
    "        \n",
    "    def _trainTestSplit(self):\n",
    "        self.trainX, self.testX, self.trainY, self.testY = train_test_split(self.features, self.target, test_size=0.2)\n",
    "    \n",
    "    def preProcessing(self, filename):\n",
    "        self._readDataset(filename)\n",
    "        self._dropNulls()\n",
    "        self.data.reset_index(drop = True)\n",
    "        self._saveProcessedData()\n",
    "        self._trainTestSplit()\n",
    "        #display(self.data.corr())"
   ]
  },
  {
   "cell_type": "code",
   "execution_count": 27,
   "metadata": {},
   "outputs": [
    {
     "data": {
      "text/plain": [
       "DecisionTreeClassifier(class_weight=None, criterion='gini', max_depth=5,\n",
       "                       max_features=None, max_leaf_nodes=None,\n",
       "                       min_impurity_decrease=0.0, min_impurity_split=None,\n",
       "                       min_samples_leaf=1, min_samples_split=2,\n",
       "                       min_weight_fraction_leaf=0.0, presort=False,\n",
       "                       random_state=None, splitter='best')"
      ]
     },
     "execution_count": 27,
     "metadata": {},
     "output_type": "execute_result"
    }
   ],
   "source": [
    "tree1 = DecisionTreeClassifier(max_depth = 5)\n",
    "model = Model()\n",
    "model.preProcessing(\"framingham.csv\")\n",
    "\n",
    "tree1.fit(model.trainX, model.trainY)\n"
   ]
  },
  {
   "cell_type": "code",
   "execution_count": 28,
   "metadata": {},
   "outputs": [
    {
     "data": {
      "text/plain": [
       "[Text(158.30217391304348, 199.32, 'X[1] <= 50.5\\ngini = 0.259\\nsamples = 2999\\nvalue = [2540, 459]'),\n",
       " Text(70.96304347826087, 163.07999999999998, 'X[9] <= 150.25\\ngini = 0.162\\nsamples = 1670\\nvalue = [1522, 148]'),\n",
       " Text(36.391304347826086, 126.83999999999999, 'X[11] <= 39.09\\ngini = 0.141\\nsamples = 1531\\nvalue = [1414, 117]'),\n",
       " Text(21.834782608695654, 90.6, 'X[8] <= 424.5\\ngini = 0.137\\nsamples = 1524\\nvalue = [1411, 113]'),\n",
       " Text(14.556521739130435, 54.359999999999985, 'X[3] <= 17.5\\ngini = 0.135\\nsamples = 1522\\nvalue = [1411, 111]'),\n",
       " Text(7.278260869565218, 18.119999999999976, 'gini = 0.099\\nsamples = 992\\nvalue = [940, 52]'),\n",
       " Text(21.834782608695654, 18.119999999999976, 'gini = 0.198\\nsamples = 530\\nvalue = [471, 59]'),\n",
       " Text(29.11304347826087, 54.359999999999985, 'gini = 0.0\\nsamples = 2\\nvalue = [0, 2]'),\n",
       " Text(50.947826086956525, 90.6, 'X[13] <= 77.5\\ngini = 0.49\\nsamples = 7\\nvalue = [3, 4]'),\n",
       " Text(43.66956521739131, 54.359999999999985, 'X[8] <= 219.5\\ngini = 0.375\\nsamples = 4\\nvalue = [3, 1]'),\n",
       " Text(36.391304347826086, 18.119999999999976, 'gini = 0.0\\nsamples = 1\\nvalue = [0, 1]'),\n",
       " Text(50.947826086956525, 18.119999999999976, 'gini = 0.0\\nsamples = 3\\nvalue = [3, 0]'),\n",
       " Text(58.22608695652174, 54.359999999999985, 'gini = 0.0\\nsamples = 3\\nvalue = [0, 3]'),\n",
       " Text(105.53478260869565, 126.83999999999999, 'X[12] <= 71.0\\ngini = 0.347\\nsamples = 139\\nvalue = [108, 31]'),\n",
       " Text(87.33913043478262, 90.6, 'X[11] <= 25.545\\ngini = 0.5\\nsamples = 24\\nvalue = [12, 12]'),\n",
       " Text(72.78260869565217, 54.359999999999985, 'X[10] <= 88.0\\ngini = 0.278\\nsamples = 6\\nvalue = [1, 5]'),\n",
       " Text(65.50434782608696, 18.119999999999976, 'gini = 0.0\\nsamples = 1\\nvalue = [1, 0]'),\n",
       " Text(80.06086956521739, 18.119999999999976, 'gini = 0.0\\nsamples = 5\\nvalue = [0, 5]'),\n",
       " Text(101.89565217391305, 54.359999999999985, 'X[13] <= 65.0\\ngini = 0.475\\nsamples = 18\\nvalue = [11, 7]'),\n",
       " Text(94.61739130434783, 18.119999999999976, 'gini = 0.0\\nsamples = 2\\nvalue = [0, 2]'),\n",
       " Text(109.17391304347827, 18.119999999999976, 'gini = 0.43\\nsamples = 16\\nvalue = [11, 5]'),\n",
       " Text(123.7304347826087, 90.6, 'X[8] <= 162.0\\ngini = 0.276\\nsamples = 115\\nvalue = [96, 19]'),\n",
       " Text(116.45217391304348, 54.359999999999985, 'gini = 0.0\\nsamples = 2\\nvalue = [0, 2]'),\n",
       " Text(131.0086956521739, 54.359999999999985, 'X[0] <= 0.5\\ngini = 0.256\\nsamples = 113\\nvalue = [96, 17]'),\n",
       " Text(123.7304347826087, 18.119999999999976, 'gini = 0.117\\nsamples = 64\\nvalue = [60, 4]'),\n",
       " Text(138.28695652173914, 18.119999999999976, 'gini = 0.39\\nsamples = 49\\nvalue = [36, 13]'),\n",
       " Text(245.6413043478261, 163.07999999999998, 'X[13] <= 122.5\\ngini = 0.358\\nsamples = 1329\\nvalue = [1018, 311]'),\n",
       " Text(203.7913043478261, 126.83999999999999, 'X[9] <= 143.75\\ngini = 0.341\\nsamples = 1277\\nvalue = [998, 279]'),\n",
       " Text(174.67826086956524, 90.6, 'X[0] <= 0.5\\ngini = 0.286\\nsamples = 794\\nvalue = [657, 137]'),\n",
       " Text(160.12173913043478, 54.359999999999985, 'X[11] <= 33.05\\ngini = 0.225\\nsamples = 419\\nvalue = [365, 54]'),\n",
       " Text(152.84347826086957, 18.119999999999976, 'gini = 0.207\\nsamples = 400\\nvalue = [353, 47]'),\n",
       " Text(167.4, 18.119999999999976, 'gini = 0.465\\nsamples = 19\\nvalue = [12, 7]'),\n",
       " Text(189.23478260869567, 54.359999999999985, 'X[9] <= 122.75\\ngini = 0.345\\nsamples = 375\\nvalue = [292, 83]'),\n",
       " Text(181.95652173913044, 18.119999999999976, 'gini = 0.249\\nsamples = 158\\nvalue = [135, 23]'),\n",
       " Text(196.51304347826087, 18.119999999999976, 'gini = 0.4\\nsamples = 217\\nvalue = [157, 60]'),\n",
       " Text(232.90434782608696, 90.6, 'X[3] <= 12.5\\ngini = 0.415\\nsamples = 483\\nvalue = [341, 142]'),\n",
       " Text(218.34782608695653, 54.359999999999985, 'X[9] <= 213.5\\ngini = 0.37\\nsamples = 375\\nvalue = [283, 92]'),\n",
       " Text(211.0695652173913, 18.119999999999976, 'gini = 0.36\\nsamples = 369\\nvalue = [282, 87]'),\n",
       " Text(225.62608695652173, 18.119999999999976, 'gini = 0.278\\nsamples = 6\\nvalue = [1, 5]'),\n",
       " Text(247.4608695652174, 54.359999999999985, 'X[13] <= 75.5\\ngini = 0.497\\nsamples = 108\\nvalue = [58, 50]'),\n",
       " Text(240.1826086956522, 18.119999999999976, 'gini = 0.413\\nsamples = 48\\nvalue = [34, 14]'),\n",
       " Text(254.73913043478262, 18.119999999999976, 'gini = 0.48\\nsamples = 60\\nvalue = [24, 36]'),\n",
       " Text(287.4913043478261, 126.83999999999999, 'X[1] <= 53.5\\ngini = 0.473\\nsamples = 52\\nvalue = [20, 32]'),\n",
       " Text(269.295652173913, 90.6, 'X[13] <= 123.5\\ngini = 0.153\\nsamples = 12\\nvalue = [1, 11]'),\n",
       " Text(262.0173913043478, 54.359999999999985, 'gini = 0.0\\nsamples = 1\\nvalue = [1, 0]'),\n",
       " Text(276.5739130434783, 54.359999999999985, 'gini = 0.0\\nsamples = 11\\nvalue = [0, 11]'),\n",
       " Text(305.68695652173915, 90.6, 'X[0] <= 0.5\\ngini = 0.499\\nsamples = 40\\nvalue = [19, 21]'),\n",
       " Text(291.1304347826087, 54.359999999999985, 'X[9] <= 197.5\\ngini = 0.469\\nsamples = 24\\nvalue = [15, 9]'),\n",
       " Text(283.8521739130435, 18.119999999999976, 'gini = 0.408\\nsamples = 21\\nvalue = [15, 6]'),\n",
       " Text(298.40869565217395, 18.119999999999976, 'gini = 0.0\\nsamples = 3\\nvalue = [0, 3]'),\n",
       " Text(320.24347826086955, 54.359999999999985, 'X[13] <= 160.0\\ngini = 0.375\\nsamples = 16\\nvalue = [4, 12]'),\n",
       " Text(312.96521739130435, 18.119999999999976, 'gini = 0.0\\nsamples = 7\\nvalue = [0, 7]'),\n",
       " Text(327.5217391304348, 18.119999999999976, 'gini = 0.494\\nsamples = 9\\nvalue = [4, 5]')]"
      ]
     },
     "execution_count": 28,
     "metadata": {},
     "output_type": "execute_result"
    },
    {
     "data": {
      "image/png": "[encoded data removed]",
      "text/plain": [
       "<Figure size 432x288 with 1 Axes>"
      ]
     },
     "metadata": {
      "needs_background": "light"
     },
     "output_type": "display_data"
    }
   ],
   "source": [
    "tree.plot_tree(tree1.fit(model.trainX, model.trainY))"
   ]
  },
  {
   "cell_type": "code",
   "execution_count": 51,
   "metadata": {},
   "outputs": [
    {
     "name": "stderr",
     "output_type": "stream",
     "text": [
      "'C:\\Users\\Mudasir' is not recognized as an internal or external command,\n",
      "operable program or batch file.\n"
     ]
    },
    {
     "ename": "CalledProcessError",
     "evalue": "Command '['dot.bat', '-Tpdf', '-O', 'final']' returned non-zero exit status 1. [stderr: b\"'C:\\\\Users\\\\Mudasir' is not recognized as an internal or external command,\\r\\noperable program or batch file.\\r\\n\"]",
     "output_type": "error",
     "traceback": [
      "\u001b[1;31m---------------------------------------------------------------------------\u001b[0m",
      "\u001b[1;31mCalledProcessError\u001b[0m                        Traceback (most recent call last)",
      "\u001b[1;32m<ipython-input-51-4f60575704ae>\u001b[0m in \u001b[0;36m<module>\u001b[1;34m\u001b[0m\n\u001b[0;32m     11\u001b[0m                       feature_names=list(model.features.columns))\n\u001b[0;32m     12\u001b[0m \u001b[0mgraph\u001b[0m \u001b[1;33m=\u001b[0m \u001b[0mgraphviz\u001b[0m\u001b[1;33m.\u001b[0m\u001b[0mSource\u001b[0m\u001b[1;33m(\u001b[0m\u001b[0mdot_data\u001b[0m\u001b[1;33m)\u001b[0m\u001b[1;33m\u001b[0m\u001b[1;33m\u001b[0m\u001b[0m\n\u001b[1;32m---> 13\u001b[1;33m \u001b[0mgraph\u001b[0m\u001b[1;33m.\u001b[0m\u001b[0mrender\u001b[0m\u001b[1;33m(\u001b[0m\u001b[1;34m'final'\u001b[0m\u001b[1;33m)\u001b[0m\u001b[1;33m\u001b[0m\u001b[1;33m\u001b[0m\u001b[0m\n\u001b[0m\u001b[0;32m     14\u001b[0m \u001b[1;31m#Image(filename = 'tree_nonlimited.png')\u001b[0m\u001b[1;33m\u001b[0m\u001b[1;33m\u001b[0m\u001b[1;33m\u001b[0m\u001b[0m\n",
      "\u001b[1;32m~\\Anaconda3\\lib\\site-packages\\graphviz\\files.py\u001b[0m in \u001b[0;36mrender\u001b[1;34m(self, filename, directory, view, cleanup, format, renderer, formatter, quiet, quiet_view)\u001b[0m\n\u001b[0;32m    207\u001b[0m         rendered = backend.render(self._engine, format, filepath,\n\u001b[0;32m    208\u001b[0m                                   \u001b[0mrenderer\u001b[0m\u001b[1;33m=\u001b[0m\u001b[0mrenderer\u001b[0m\u001b[1;33m,\u001b[0m \u001b[0mformatter\u001b[0m\u001b[1;33m=\u001b[0m\u001b[0mformatter\u001b[0m\u001b[1;33m,\u001b[0m\u001b[1;33m\u001b[0m\u001b[1;33m\u001b[0m\u001b[0m\n\u001b[1;32m--> 209\u001b[1;33m                                   quiet=quiet)\n\u001b[0m\u001b[0;32m    210\u001b[0m \u001b[1;33m\u001b[0m\u001b[0m\n\u001b[0;32m    211\u001b[0m         \u001b[1;32mif\u001b[0m \u001b[0mcleanup\u001b[0m\u001b[1;33m:\u001b[0m\u001b[1;33m\u001b[0m\u001b[1;33m\u001b[0m\u001b[0m\n",
      "\u001b[1;32m~\\Anaconda3\\lib\\site-packages\\graphviz\\backend.py\u001b[0m in \u001b[0;36mrender\u001b[1;34m(engine, format, filepath, renderer, formatter, quiet)\u001b[0m\n\u001b[0;32m    206\u001b[0m     \u001b[1;32melse\u001b[0m\u001b[1;33m:\u001b[0m\u001b[1;33m\u001b[0m\u001b[1;33m\u001b[0m\u001b[0m\n\u001b[0;32m    207\u001b[0m         \u001b[0mcwd\u001b[0m \u001b[1;33m=\u001b[0m \u001b[1;32mNone\u001b[0m\u001b[1;33m\u001b[0m\u001b[1;33m\u001b[0m\u001b[0m\n\u001b[1;32m--> 208\u001b[1;33m     \u001b[0mrun\u001b[0m\u001b[1;33m(\u001b[0m\u001b[0mcmd\u001b[0m\u001b[1;33m,\u001b[0m \u001b[0mcapture_output\u001b[0m\u001b[1;33m=\u001b[0m\u001b[1;32mTrue\u001b[0m\u001b[1;33m,\u001b[0m \u001b[0mcwd\u001b[0m\u001b[1;33m=\u001b[0m\u001b[0mcwd\u001b[0m\u001b[1;33m,\u001b[0m \u001b[0mcheck\u001b[0m\u001b[1;33m=\u001b[0m\u001b[1;32mTrue\u001b[0m\u001b[1;33m,\u001b[0m \u001b[0mquiet\u001b[0m\u001b[1;33m=\u001b[0m\u001b[0mquiet\u001b[0m\u001b[1;33m)\u001b[0m\u001b[1;33m\u001b[0m\u001b[1;33m\u001b[0m\u001b[0m\n\u001b[0m\u001b[0;32m    209\u001b[0m     \u001b[1;32mreturn\u001b[0m \u001b[0mrendered\u001b[0m\u001b[1;33m\u001b[0m\u001b[1;33m\u001b[0m\u001b[0m\n\u001b[0;32m    210\u001b[0m \u001b[1;33m\u001b[0m\u001b[0m\n",
      "\u001b[1;32m~\\Anaconda3\\lib\\site-packages\\graphviz\\backend.py\u001b[0m in \u001b[0;36mrun\u001b[1;34m(cmd, input, capture_output, check, quiet, **kwargs)\u001b[0m\n\u001b[0;32m    172\u001b[0m     \u001b[1;32mif\u001b[0m \u001b[0mcheck\u001b[0m \u001b[1;32mand\u001b[0m \u001b[0mproc\u001b[0m\u001b[1;33m.\u001b[0m\u001b[0mreturncode\u001b[0m\u001b[1;33m:\u001b[0m\u001b[1;33m\u001b[0m\u001b[1;33m\u001b[0m\u001b[0m\n\u001b[0;32m    173\u001b[0m         raise CalledProcessError(proc.returncode, cmd,\n\u001b[1;32m--> 174\u001b[1;33m                                  output=out, stderr=err)\n\u001b[0m\u001b[0;32m    175\u001b[0m \u001b[1;33m\u001b[0m\u001b[0m\n\u001b[0;32m    176\u001b[0m     \u001b[1;32mreturn\u001b[0m \u001b[0mout\u001b[0m\u001b[1;33m,\u001b[0m \u001b[0merr\u001b[0m\u001b[1;33m\u001b[0m\u001b[1;33m\u001b[0m\u001b[0m\n",
      "\u001b[1;31mCalledProcessError\u001b[0m: Command '['dot.bat', '-Tpdf', '-O', 'final']' returned non-zero exit status 1. [stderr: b\"'C:\\\\Users\\\\Mudasir' is not recognized as an internal or external command,\\r\\noperable program or batch file.\\r\\n\"]"
     ]
    }
   ],
   "source": [
    "from sklearn.externals.six import StringIO  \n",
    "from IPython.display import Image  \n",
    "from sklearn.tree import export_graphviz\n",
    "import pydotplus \n",
    "\n",
    "# export_graphviz(tree, out_file=\"tree_nonlimited.dot\",  \n",
    "  #              filled=True, rounded=True,\n",
    "   #             special_characters=True)\n",
    "\n",
    "dot_data = tree.export_graphviz(tree1, out_file=None, \n",
    "                      feature_names=list(model.features.columns))\n",
    "graph = graphviz.Source(dot_data)  \n",
    "graph.render('final')\n",
    "#Image(filename = 'tree_nonlimited.png')"
   ]
  },
  {
   "cell_type": "code",
   "execution_count": null,
   "metadata": {},
   "outputs": [],
   "source": []
  }
 ],
 "metadata": {
  "kernelspec": {
   "display_name": "Python 3",
   "language": "python",
   "name": "python3"
  },
  "language_info": {
   "codemirror_mode": {
    "name": "ipython",
    "version": 3
   },
   "file_extension": ".py",
   "mimetype": "text/x-python",
   "name": "python",
   "nbconvert_exporter": "python",
   "pygments_lexer": "ipython3",
   "version": "3.7.4"
  }
 },
 "nbformat": 4,
 "nbformat_minor": 4
}
